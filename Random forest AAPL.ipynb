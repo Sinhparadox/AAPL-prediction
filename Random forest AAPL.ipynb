{
 "cells": [
  {
   "cell_type": "code",
   "execution_count": 1,
   "id": "7560e705",
   "metadata": {},
   "outputs": [
    {
     "name": "stderr",
     "output_type": "stream",
     "text": [
      "C:\\Users\\zijia\\AppData\\Local\\Temp\\ipykernel_30192\\1813089224.py:6: MatplotlibDeprecationWarning: The seaborn styles shipped by Matplotlib are deprecated since 3.6, as they no longer correspond to the styles shipped by seaborn. However, they will remain available as 'seaborn-v0_8-<style>'. Alternatively, directly use the seaborn API instead.\n",
      "  plt.style.use('seaborn-white')\n"
     ]
    }
   ],
   "source": [
    "import numpy as np\n",
    "import pandas as pd\n",
    "import matplotlib.pyplot as plt\n",
    "import seaborn as sns\n",
    "from datetime import datetime\n",
    "plt.style.use('seaborn-white')\n",
    "for param in ['figure.facecolor', 'axes.facecolor', 'savefig.facecolor']:\n",
    "    plt.rcParams[param] = '#212946'  # bluish dark grey\n",
    "for param in ['text.color', 'axes.labelcolor', 'xtick.color', 'ytick.color']:\n",
    "    plt.rcParams[param] = '0.9'  # very light grey\n",
    "plt.rcParams.update({\"axes.grid\": True,\"grid.color\": \"#2A3459\"})"
   ]
  },
  {
   "cell_type": "code",
   "execution_count": 2,
   "id": "509a76ba",
   "metadata": {},
   "outputs": [
    {
     "name": "stdout",
     "output_type": "stream",
     "text": [
      "             Date        Open        High         Low       Close   Adj Close  \\\n",
      "0      1980-12-12    0.128348    0.128906    0.128348    0.128348    0.100178   \n",
      "1      1980-12-15    0.122210    0.122210    0.121652    0.121652    0.094952   \n",
      "2      1980-12-16    0.113281    0.113281    0.112723    0.112723    0.087983   \n",
      "3      1980-12-17    0.115513    0.116071    0.115513    0.115513    0.090160   \n",
      "4      1980-12-18    0.118862    0.119420    0.118862    0.118862    0.092774   \n",
      "...           ...         ...         ...         ...         ...         ...   \n",
      "10438  2022-05-06  156.009995  159.440002  154.179993  157.279999  157.279999   \n",
      "10439  2022-05-09  154.929993  155.830002  151.490005  152.059998  152.059998   \n",
      "10440  2022-05-10  155.520004  156.740005  152.929993  154.509995  154.509995   \n",
      "10441  2022-05-11  153.500000  155.449997  145.809998  146.500000  146.500000   \n",
      "10442  2022-05-12  142.770004  146.199997  138.800003  142.559998  142.559998   \n",
      "\n",
      "          Volume  \n",
      "0      469033600  \n",
      "1      175884800  \n",
      "2      105728000  \n",
      "3       86441600  \n",
      "4       73449600  \n",
      "...          ...  \n",
      "10438  116055700  \n",
      "10439  131577900  \n",
      "10440  115366700  \n",
      "10441  142689800  \n",
      "10442  182271000  \n",
      "\n",
      "[10443 rows x 7 columns]\n"
     ]
    }
   ],
   "source": [
    "df = pd.read_csv(r'C:\\Users\\zijia\\Desktop\\AAPL_stock.csv')\n",
    "print(df)"
   ]
  },
  {
   "cell_type": "code",
   "execution_count": 3,
   "id": "5889c54f",
   "metadata": {},
   "outputs": [
    {
     "data": {
      "text/html": [
       "<div>\n",
       "<style scoped>\n",
       "    .dataframe tbody tr th:only-of-type {\n",
       "        vertical-align: middle;\n",
       "    }\n",
       "\n",
       "    .dataframe tbody tr th {\n",
       "        vertical-align: top;\n",
       "    }\n",
       "\n",
       "    .dataframe thead th {\n",
       "        text-align: right;\n",
       "    }\n",
       "</style>\n",
       "<table border=\"1\" class=\"dataframe\">\n",
       "  <thead>\n",
       "    <tr style=\"text-align: right;\">\n",
       "      <th></th>\n",
       "      <th>Open</th>\n",
       "      <th>High</th>\n",
       "      <th>Low</th>\n",
       "      <th>Close</th>\n",
       "      <th>Adj Close</th>\n",
       "      <th>Volume</th>\n",
       "    </tr>\n",
       "  </thead>\n",
       "  <tbody>\n",
       "    <tr>\n",
       "      <th>count</th>\n",
       "      <td>10443.000000</td>\n",
       "      <td>10443.000000</td>\n",
       "      <td>10443.000000</td>\n",
       "      <td>10443.000000</td>\n",
       "      <td>10443.000000</td>\n",
       "      <td>1.044300e+04</td>\n",
       "    </tr>\n",
       "    <tr>\n",
       "      <th>mean</th>\n",
       "      <td>14.453559</td>\n",
       "      <td>14.611925</td>\n",
       "      <td>14.294785</td>\n",
       "      <td>14.458603</td>\n",
       "      <td>13.823986</td>\n",
       "      <td>3.314118e+08</td>\n",
       "    </tr>\n",
       "    <tr>\n",
       "      <th>std</th>\n",
       "      <td>31.337795</td>\n",
       "      <td>31.699692</td>\n",
       "      <td>30.979093</td>\n",
       "      <td>31.351249</td>\n",
       "      <td>31.046629</td>\n",
       "      <td>3.390498e+08</td>\n",
       "    </tr>\n",
       "    <tr>\n",
       "      <th>min</th>\n",
       "      <td>0.049665</td>\n",
       "      <td>0.049665</td>\n",
       "      <td>0.049107</td>\n",
       "      <td>0.049107</td>\n",
       "      <td>0.038329</td>\n",
       "      <td>0.000000e+00</td>\n",
       "    </tr>\n",
       "    <tr>\n",
       "      <th>25%</th>\n",
       "      <td>0.283482</td>\n",
       "      <td>0.289063</td>\n",
       "      <td>0.275893</td>\n",
       "      <td>0.282891</td>\n",
       "      <td>0.235214</td>\n",
       "      <td>1.241298e+08</td>\n",
       "    </tr>\n",
       "    <tr>\n",
       "      <th>50%</th>\n",
       "      <td>0.472321</td>\n",
       "      <td>0.481429</td>\n",
       "      <td>0.464286</td>\n",
       "      <td>0.473214</td>\n",
       "      <td>0.389186</td>\n",
       "      <td>2.188788e+08</td>\n",
       "    </tr>\n",
       "    <tr>\n",
       "      <th>75%</th>\n",
       "      <td>14.445892</td>\n",
       "      <td>14.601071</td>\n",
       "      <td>14.297321</td>\n",
       "      <td>14.463393</td>\n",
       "      <td>12.409363</td>\n",
       "      <td>4.116770e+08</td>\n",
       "    </tr>\n",
       "    <tr>\n",
       "      <th>max</th>\n",
       "      <td>182.630005</td>\n",
       "      <td>182.940002</td>\n",
       "      <td>179.119995</td>\n",
       "      <td>182.009995</td>\n",
       "      <td>181.511703</td>\n",
       "      <td>7.421641e+09</td>\n",
       "    </tr>\n",
       "  </tbody>\n",
       "</table>\n",
       "</div>"
      ],
      "text/plain": [
       "               Open          High           Low         Close     Adj Close  \\\n",
       "count  10443.000000  10443.000000  10443.000000  10443.000000  10443.000000   \n",
       "mean      14.453559     14.611925     14.294785     14.458603     13.823986   \n",
       "std       31.337795     31.699692     30.979093     31.351249     31.046629   \n",
       "min        0.049665      0.049665      0.049107      0.049107      0.038329   \n",
       "25%        0.283482      0.289063      0.275893      0.282891      0.235214   \n",
       "50%        0.472321      0.481429      0.464286      0.473214      0.389186   \n",
       "75%       14.445892     14.601071     14.297321     14.463393     12.409363   \n",
       "max      182.630005    182.940002    179.119995    182.009995    181.511703   \n",
       "\n",
       "             Volume  \n",
       "count  1.044300e+04  \n",
       "mean   3.314118e+08  \n",
       "std    3.390498e+08  \n",
       "min    0.000000e+00  \n",
       "25%    1.241298e+08  \n",
       "50%    2.188788e+08  \n",
       "75%    4.116770e+08  \n",
       "max    7.421641e+09  "
      ]
     },
     "execution_count": 3,
     "metadata": {},
     "output_type": "execute_result"
    }
   ],
   "source": [
    "df.describe()"
   ]
  },
  {
   "cell_type": "code",
   "execution_count": 4,
   "id": "8b6889dc",
   "metadata": {},
   "outputs": [
    {
     "name": "stdout",
     "output_type": "stream",
     "text": [
      "<class 'pandas.core.frame.DataFrame'>\n",
      "RangeIndex: 10443 entries, 0 to 10442\n",
      "Data columns (total 7 columns):\n",
      " #   Column     Non-Null Count  Dtype  \n",
      "---  ------     --------------  -----  \n",
      " 0   Date       10443 non-null  object \n",
      " 1   Open       10443 non-null  float64\n",
      " 2   High       10443 non-null  float64\n",
      " 3   Low        10443 non-null  float64\n",
      " 4   Close      10443 non-null  float64\n",
      " 5   Adj Close  10443 non-null  float64\n",
      " 6   Volume     10443 non-null  int64  \n",
      "dtypes: float64(5), int64(1), object(1)\n",
      "memory usage: 571.2+ KB\n"
     ]
    }
   ],
   "source": [
    "df.info()"
   ]
  },
  {
   "cell_type": "code",
   "execution_count": 5,
   "id": "0f463ae1",
   "metadata": {},
   "outputs": [],
   "source": [
    "df['Date'] = pd.to_datetime(df['Date'])\n",
    "df = df.set_index('Date')"
   ]
  },
  {
   "cell_type": "code",
   "execution_count": 6,
   "id": "1392d02b",
   "metadata": {},
   "outputs": [
    {
     "name": "stdout",
     "output_type": "stream",
     "text": [
      "R^2 Score: 0.9999782023302046\n",
      "Train rmse: 0.1530851001881629\n"
     ]
    }
   ],
   "source": [
    "from sklearn.ensemble import RandomForestRegressor\n",
    "from sklearn.model_selection import train_test_split\n",
    "from sklearn.metrics import mean_squared_error\n",
    "from sklearn.metrics import r2_score\n",
    "\n",
    "# Prepare the data\n",
    "X = df.drop('Close', axis=1)  # Replace 'Target_Variable' with the actual name of the column you want to predict\n",
    "y = df['Close']  # Replace 'Target_Variable' with the actual name of the column you want to predict\n",
    "\n",
    "# Split the data into training and testing sets\n",
    "X_train, X_test, y_train, y_test = train_test_split(X, y, test_size=0.2, random_state=42)\n",
    "\n",
    "# Create and train the Random Forest regression model\n",
    "model = RandomForestRegressor(n_estimators=100, random_state=42)\n",
    "model.fit(X_train, y_train)\n",
    "\n",
    "# Make predictions on the testing set\n",
    "y_pred = model.predict(X_test)\n",
    "\n",
    "# Calculate the R^2 score\n",
    "r2 = r2_score(y_test, y_pred)\n",
    "print(\"R^2 Score:\", r2)\n",
    "print('Train rmse:', np.sqrt(mean_squared_error(y_test, y_pred)))"
   ]
  }
 ],
 "metadata": {
  "kernelspec": {
   "display_name": "Python 3 (ipykernel)",
   "language": "python",
   "name": "python3"
  },
  "language_info": {
   "codemirror_mode": {
    "name": "ipython",
    "version": 3
   },
   "file_extension": ".py",
   "mimetype": "text/x-python",
   "name": "python",
   "nbconvert_exporter": "python",
   "pygments_lexer": "ipython3",
   "version": "3.10.9"
  }
 },
 "nbformat": 4,
 "nbformat_minor": 5
}
